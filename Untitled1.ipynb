{
  "nbformat": 4,
  "nbformat_minor": 0,
  "metadata": {
    "colab": {
      "provenance": [],
      "authorship_tag": "ABX9TyPUTK0Ag3mgv4NVu1PedbB3",
      "include_colab_link": true
    },
    "kernelspec": {
      "name": "python3",
      "display_name": "Python 3"
    },
    "language_info": {
      "name": "python"
    }
  },
  "cells": [
    {
      "cell_type": "markdown",
      "metadata": {
        "id": "view-in-github",
        "colab_type": "text"
      },
      "source": [
        "<a href=\"https://colab.research.google.com/github/Angel-DIaz1/PROBABILIDADYESTADISTICA/blob/main/Untitled1.ipynb\" target=\"_parent\"><img src=\"https://colab.research.google.com/assets/colab-badge.svg\" alt=\"Open In Colab\"/></a>"
      ]
    },
    {
      "cell_type": "code",
      "execution_count": 2,
      "metadata": {
        "id": "Beal35BdJhfc"
      },
      "outputs": [],
      "source": [
        "import numpy as np\n",
        "from scipy.stats import binom"
      ]
    },
    {
      "cell_type": "markdown",
      "source": [
        "PRIMER EJERCICIO"
      ],
      "metadata": {
        "id": "vrtskkhYOSiH"
      }
    },
    {
      "cell_type": "code",
      "source": [
        "# Probabilidad de ganar y perder\n",
        "probabilidades = np.array([0.005, 0.995])\n",
        "# Premio por ganar y costo por perder\n",
        "ganancias = np.array([500_000, -10_000])\n",
        "\n",
        "# Calcular el valor esperado\n",
        "valor_esperado = np.sum(probabilidades * ganancias) / 1000  # Convertido a miles de dólares\n",
        "\n",
        "print(f\"El valor esperado es {valor_esperado:.2f} mil dólares\")"
      ],
      "metadata": {
        "colab": {
          "base_uri": "https://localhost:8080/"
        },
        "id": "Ae7PFoaUKhPy",
        "outputId": "3268d8d8-58d9-4f7d-f804-9ead94734c58"
      },
      "execution_count": 7,
      "outputs": [
        {
          "output_type": "stream",
          "name": "stdout",
          "text": [
            "El valor esperado es -7.45 mil dólares\n"
          ]
        }
      ]
    },
    {
      "cell_type": "markdown",
      "source": [
        "SEGUNDO EJERCICIO"
      ],
      "metadata": {
        "id": "EXcg7iAFOU6f"
      }
    },
    {
      "cell_type": "code",
      "source": [
        "# Probabilidad de revisión y no revisión\n",
        "probabilidades = np.array([0.05, 0.95])\n",
        "# Costo si revisan (boleto + multa) y si no revisan (solo boleto)\n",
        "costos = np.array([5 + 300, 5])\n",
        "\n",
        "# Calcular el costo total esperado\n",
        "costo_esperado = np.sum(probabilidades * costos)\n",
        "\n",
        "print(f\"El costo total esperado del viaje es {costo_esperado:.2f} euros\")"
      ],
      "metadata": {
        "colab": {
          "base_uri": "https://localhost:8080/"
        },
        "id": "z8AhlUc0OGjn",
        "outputId": "4de6c408-f458-44d1-c53c-97221a35e782"
      },
      "execution_count": 8,
      "outputs": [
        {
          "output_type": "stream",
          "name": "stdout",
          "text": [
            "El costo total esperado del viaje es 20.00 euros\n"
          ]
        }
      ]
    },
    {
      "cell_type": "markdown",
      "source": [
        "TERCER EJERCICIO"
      ],
      "metadata": {
        "id": "-h8vptcIPNwm"
      }
    },
    {
      "cell_type": "code",
      "source": [
        "\n",
        "# Valores del dado\n",
        "valores = np.array([1, 2, 3, 4, 5, 6])\n",
        "\n",
        "# Probabilidades de un dado justo\n",
        "probabilidades = np.full(6, 1/6)\n",
        "\n",
        "# Valor esperado\n",
        "valor_esperado = np.sum(valores * probabilidades)\n",
        "\n",
        "print(\"El valor esperado del dado es:\", valor_esperado)\n",
        "#respuesta (C)"
      ],
      "metadata": {
        "colab": {
          "base_uri": "https://localhost:8080/"
        },
        "id": "hmoHn1lUPPe2",
        "outputId": "36e0ba85-90e1-44f1-f055-1e8b6bf0e205"
      },
      "execution_count": 11,
      "outputs": [
        {
          "output_type": "stream",
          "name": "stdout",
          "text": [
            "El valor esperado del dado es: 3.5\n"
          ]
        }
      ]
    },
    {
      "cell_type": "markdown",
      "source": [
        "CUARTO EJERCICIO"
      ],
      "metadata": {
        "id": "kIfyP_oKRGZ2"
      }
    },
    {
      "cell_type": "code",
      "source": [
        "import numpy as np\n",
        "\n",
        "# Probabilidad de que ganen los Dragones de Denver\n",
        "p_ganar = 0.5\n",
        "# Probabilidad de que pierdan los Dragones de Denver\n",
        "p_perder = 0.5\n",
        "\n",
        "# Ganancias o pérdidas según el resultado\n",
        "ganancia_si_gana = 10\n",
        "perdida_si_pierde = -11\n",
        "\n",
        "# Cálculo del rendimiento esperado\n",
        "rendimiento_esperado = (ganancia_si_gana * p_ganar) + (perdida_si_pierde * p_perder)\n",
        "\n",
        "\n",
        "print(f\"El rendimiento esperado de hacer esta apuesta es: {rendimiento_esperado} dólares\")"
      ],
      "metadata": {
        "colab": {
          "base_uri": "https://localhost:8080/"
        },
        "id": "QAFbHe12RMl2",
        "outputId": "8c0350b3-787f-4f9f-b3b9-0a377121a814"
      },
      "execution_count": 12,
      "outputs": [
        {
          "output_type": "stream",
          "name": "stdout",
          "text": [
            "El rendimiento esperado de hacer esta apuesta es: -0.5 dólares\n"
          ]
        }
      ]
    }
  ]
}